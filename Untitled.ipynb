{
 "cells": [
  {
   "cell_type": "markdown",
   "id": "a88f8e7a-e369-4cba-887c-ffdfde36a78a",
   "metadata": {},
   "source": [
    "# My Jupyter Notebook on IBM Watson Studio"
   ]
  },
  {
   "cell_type": "markdown",
   "id": "d786e03d-9d18-4bdf-9188-01a8d5276f11",
   "metadata": {},
   "source": [
    "**Ebubechi Ijere**\n",
    "\n",
    "Data Scientist"
   ]
  },
  {
   "cell_type": "markdown",
   "id": "1dab574f-5c09-40de-b516-50bdd7c9ae40",
   "metadata": {},
   "source": [
    "_I am interested in data science because it gives me a chance to express my love for programming, math and organisation_"
   ]
  },
  {
   "cell_type": "markdown",
   "id": "470d8295-021c-4ed4-ae2c-41771b3e051f",
   "metadata": {},
   "source": [
    "### The code calculates the sum of two numbers"
   ]
  },
  {
   "cell_type": "code",
   "execution_count": 2,
   "id": "0ae3a7b6-229b-4043-afeb-28b696105b10",
   "metadata": {},
   "outputs": [
    {
     "data": {
      "text/plain": [
       "33"
      ]
     },
     "execution_count": 2,
     "metadata": {},
     "output_type": "execute_result"
    }
   ],
   "source": [
    "5*6+4-1"
   ]
  },
  {
   "cell_type": "markdown",
   "id": "35f3fb1f-0a67-4c21-9558-27a91ecdb051",
   "metadata": {},
   "source": [
    "| SQL | Python| R|\n",
    "| ------| -------|-------|\n",
    "| table | table| table|\n",
    "\n",
    "\n",
    "- Python using companies\n",
    "   * IBM\n",
    "   * Wikipedia\n",
    "   * Google\n",
    "   * Yahoo!\n",
    "   \n",
    "  [home page of python](https://www.python.org/)\n",
    "   "
   ]
  },
  {
   "cell_type": "code",
   "execution_count": null,
   "id": "58336845-bbbb-48f6-8b16-043243421b56",
   "metadata": {},
   "outputs": [],
   "source": []
  },
  {
   "cell_type": "code",
   "execution_count": null,
   "id": "3b354a02-a875-4619-8280-f370e74319f9",
   "metadata": {},
   "outputs": [],
   "source": []
  }
 ],
 "metadata": {
  "kernelspec": {
   "display_name": "Python",
   "language": "python",
   "name": "conda-env-python-py"
  },
  "language_info": {
   "codemirror_mode": {
    "name": "ipython",
    "version": 3
   },
   "file_extension": ".py",
   "mimetype": "text/x-python",
   "name": "python",
   "nbconvert_exporter": "python",
   "pygments_lexer": "ipython3",
   "version": "3.7.12"
  }
 },
 "nbformat": 4,
 "nbformat_minor": 5
}
